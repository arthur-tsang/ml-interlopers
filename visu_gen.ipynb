{
 "cells": [
  {
   "cell_type": "markdown",
   "id": "070781af-9b81-4a83-a2ee-f66f5543667b",
   "metadata": {},
   "source": [
    "# General visualization notebook\n",
    "*3 May 2024*"
   ]
  },
  {
   "cell_type": "code",
   "execution_count": 1,
   "id": "15250390-da80-44b3-8a0a-7d0aae4f0c51",
   "metadata": {},
   "outputs": [],
   "source": [
    "import numpy as np\n",
    "import matplotlib.pyplot as plt"
   ]
  },
  {
   "cell_type": "code",
   "execution_count": null,
   "id": "50305ad8-0245-4385-af34-fe9ef2e93ad7",
   "metadata": {},
   "outputs": [],
   "source": []
  }
 ],
 "metadata": {
  "kernelspec": {
   "display_name": "Python 3 (ipykernel)",
   "language": "python",
   "name": "python3"
  },
  "language_info": {
   "codemirror_mode": {
    "name": "ipython",
    "version": 3
   },
   "file_extension": ".py",
   "mimetype": "text/x-python",
   "name": "python",
   "nbconvert_exporter": "python",
   "pygments_lexer": "ipython3",
   "version": "3.10.9"
  }
 },
 "nbformat": 4,
 "nbformat_minor": 5
}
